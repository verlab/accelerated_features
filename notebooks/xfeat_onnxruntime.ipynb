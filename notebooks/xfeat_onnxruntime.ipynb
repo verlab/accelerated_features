{
 "cells": [
  {
   "cell_type": "code",
   "execution_count": 1,
   "metadata": {},
   "outputs": [],
   "source": [
    "import numpy as np\n",
    "import os\n",
    "import onnxruntime as ort\n",
    "import tqdm\n",
    "import cv2\n",
    "\n",
    "model_path = '../xfeat.onnx'\n",
    "\n",
    "#Load some example images\n",
    "im1 = cv2.imread('../assets/ref.png', cv2.IMREAD_COLOR)"
   ]
  },
  {
   "cell_type": "code",
   "execution_count": 2,
   "metadata": {},
   "outputs": [
    {
     "name": "stdout",
     "output_type": "stream",
     "text": [
      "Input name: images, shape: ['batch', 3, 'height', 'width']\n",
      "Output name: feats, shape: ['Convfeats_dim_0', 64, 'Convfeats_dim_2', 'Convfeats_dim_3']\n",
      "Output name: keypoints, shape: ['Convkeypoints_dim_0', 65, 'Convfeats_dim_2', 'Convfeats_dim_3']\n",
      "Output name: heatmaps, shape: ['Convfeats_dim_0', 1, 'Sigmoidheatmaps_dim_2', 'Sigmoidheatmaps_dim_3']\n"
     ]
    }
   ],
   "source": [
    "tmp_ort_session = ort.InferenceSession(model_path, providers=['CPUExecutionProvider'])\n",
    "\n",
    "# print the input,output names and shapes\n",
    "for i in range(len(tmp_ort_session.get_inputs())):\n",
    "    print(f\"Input name: {tmp_ort_session.get_inputs()[i].name}, shape: {tmp_ort_session.get_inputs()[i].shape}\")\n",
    "for i in range(len(tmp_ort_session.get_outputs())):\n",
    "    print(f\"Output name: {tmp_ort_session.get_outputs()[i].name}, shape: {tmp_ort_session.get_outputs()[i].shape}\")\n",
    "\n",
    "\n",
    "providers = [\n",
    "    ('TensorrtExecutionProvider', { \n",
    "        'device_id': 0,\n",
    "        'trt_max_workspace_size': 1 * 1024 * 1024 * 1024,\n",
    "        'trt_fp16_enable': True,\n",
    "        'trt_engine_cache_enable': True,\n",
    "        'trt_engine_cache_path': './trt_engine_cache',\n",
    "        'trt_engine_cache_prefix': 'xfeat',\n",
    "        'trt_dump_subgraphs': False,\n",
    "        'trt_timing_cache_enable': True,\n",
    "        'trt_timing_cache_path': './trt_engine_cache',\n",
    "        #'trt_builder_optimization_level': 3,\n",
    "    }),\n",
    "    ('CUDAExecutionProvider', {\n",
    "        'device_id': 0,\n",
    "        'gpu_mem_limit': 1 * 1024 * 1024 * 1024,\n",
    "    }),\n",
    "    ('CPUExecutionProvider',{ \n",
    "    })\n",
    "]\n",
    "ort_session = ort.InferenceSession(model_path, providers=providers)"
   ]
  },
  {
   "cell_type": "markdown",
   "metadata": {},
   "source": [
    "## Prepare the input tensor"
   ]
  },
  {
   "cell_type": "code",
   "execution_count": 3,
   "metadata": {},
   "outputs": [],
   "source": [
    "# im1 = cv2.resize(im1, (640, 640)) # for bechmarking\n",
    "\n",
    "input_array_1 = im1.transpose(2, 0, 1).astype(np.float32)\n",
    "input_array_1 = np.expand_dims(input_array_1, axis=0)\n",
    "\n",
    "batch_size = 8\n",
    "\n",
    "# Psuedo-batch the input images\n",
    "input_array_1 = np.concatenate([input_array_1 for _ in range(batch_size)], axis=0)\n",
    "\n",
    "inputs = {\n",
    "    ort_session.get_inputs()[0].name: input_array_1,\n",
    "}"
   ]
  },
  {
   "cell_type": "markdown",
   "metadata": {},
   "source": [
    "## Run"
   ]
  },
  {
   "cell_type": "code",
   "execution_count": 4,
   "metadata": {},
   "outputs": [],
   "source": [
    "outputs = ort_session.run(None, inputs)"
   ]
  },
  {
   "cell_type": "code",
   "execution_count": 5,
   "metadata": {},
   "outputs": [
    {
     "name": "stdout",
     "output_type": "stream",
     "text": [
      "Output name: feats, shape: (8, 64, 75, 100)\n",
      "Output name: keypoints, shape: (8, 65, 75, 100)\n",
      "Output name: heatmaps, shape: (8, 1, 75, 100)\n"
     ]
    }
   ],
   "source": [
    "for i in range(len(outputs)):\n",
    "    print(f\"Output name: {ort_session.get_outputs()[i].name}, shape: {outputs[i].shape}\")"
   ]
  },
  {
   "cell_type": "code",
   "execution_count": 6,
   "metadata": {},
   "outputs": [
    {
     "name": "stdout",
     "output_type": "stream",
     "text": [
      "equal: [True, True, True, True, True, True, True, True, True, True, True, True, True, True, True, True, True, True, True, True, True]\n"
     ]
    }
   ],
   "source": [
    "# Validate the outputs of the psuedo-batched inputs\n",
    "\n",
    "feats = outputs[0]\n",
    "keypoints = outputs[1]\n",
    "heatmaps = outputs[2]\n",
    "\n",
    "feats_0 = feats[0]\n",
    "keypoints_0 = keypoints[0]\n",
    "heatmaps_0 = heatmaps[0]\n",
    "\n",
    "valid = []\n",
    "for i in range(1, input_array_1.shape[0]):\n",
    "    valid.append(np.all(feats_0 == feats[i]))\n",
    "    valid.append(np.all(keypoints_0 == keypoints[i]))\n",
    "    valid.append(np.all(heatmaps_0 == heatmaps[i]))\n",
    "print(f\"equal: {valid}\")"
   ]
  },
  {
   "cell_type": "code",
   "execution_count": 7,
   "metadata": {},
   "outputs": [
    {
     "name": "stderr",
     "output_type": "stream",
     "text": [
      "100%|██████████| 100/100 [00:03<00:00, 31.91it/s]"
     ]
    },
    {
     "name": "stdout",
     "output_type": "stream",
     "text": [
      "Average time per batch: 0.0314 seconds\n",
      "Average time per image: 0.0039 seconds\n",
      "Average FPS per image: 254.7242\n"
     ]
    },
    {
     "name": "stderr",
     "output_type": "stream",
     "text": [
      "\n"
     ]
    }
   ],
   "source": [
    "import time\n",
    "\n",
    "# Run the model 100 times to get an average time\n",
    "loop = 100\n",
    "start = time.perf_counter()\n",
    "for i in tqdm.tqdm(range(loop)):\n",
    "    outputs = ort_session.run(None, inputs)\n",
    "duration = time.perf_counter()-start\n",
    "\n",
    "print(f\"Average time per batch: {duration/loop:.4f} seconds\")\n",
    "print(f\"Average time per image: {duration/loop/batch_size:.4f} seconds\")\n",
    "print(f\"Average FPS per image: {batch_size*loop/duration:.4f}\")"
   ]
  }
 ],
 "metadata": {
  "kernelspec": {
   "display_name": "torch",
   "language": "python",
   "name": "python3"
  },
  "language_info": {
   "codemirror_mode": {
    "name": "ipython",
    "version": 3
   },
   "file_extension": ".py",
   "mimetype": "text/x-python",
   "name": "python",
   "nbconvert_exporter": "python",
   "pygments_lexer": "ipython3",
   "version": "3.11.5"
  }
 },
 "nbformat": 4,
 "nbformat_minor": 2
}
